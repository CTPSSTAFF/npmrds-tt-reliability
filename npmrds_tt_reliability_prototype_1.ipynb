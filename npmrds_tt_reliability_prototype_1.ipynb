{
 "cells": [
  {
   "cell_type": "markdown",
   "id": "5ade2f45",
   "metadata": {},
   "source": [
    "### Notebook to prototype calculation of NPMRDS travel-time reliability metric"
   ]
  },
  {
   "cell_type": "code",
   "execution_count": null,
   "id": "1b1967cd",
   "metadata": {},
   "outputs": [],
   "source": [
    "import pandas as pd\n",
    "import datetime"
   ]
  },
  {
   "cell_type": "code",
   "execution_count": null,
   "id": "2fc9f4eb",
   "metadata": {},
   "outputs": [],
   "source": [
    "# Enums for NHPP_Periods:\n",
    "nhpp_none = 0\n",
    "nhpp_weekday_6_10 = 1\n",
    "nhpp_weekday_10_4 = 2\n",
    "nhpp_weekday_4_8 =  3\n",
    "nhpp_weekend_6_8 =  4"
   ]
  },
  {
   "cell_type": "code",
   "execution_count": null,
   "id": "6257b27f",
   "metadata": {},
   "outputs": [],
   "source": [
    "def get_nhpp_period(dow, hour):\n",
    "\tretval = 0\n",
    "\tif (dow == 5 or dow == 6):\n",
    "\t\tif hour >=6 and hour < 20:\n",
    "\t\t\tretval = nhpp_weekend_6_8\n",
    "\t\telse:\n",
    "\t\t\tretval = nhpp_none\n",
    "\telif hour >=6 and hour < 10:\n",
    "\t\tretval = nhpp_weekday_6_10\n",
    "\telif hour >= 10 and hour < 16:\n",
    "\t\tretval = nhpp_weekday_10_4\n",
    "\telif hour >= 16 and hour < 20:\n",
    "\t\tretval = nhpp_weekday_4_8\n",
    "\telse:\n",
    "\t\tretval = nhpp_none\n",
    "\t# endif\n",
    "\treturn retval\n",
    "# end_def get_nhpp_period()"
   ]
  },
  {
   "cell_type": "code",
   "execution_count": null,
   "id": "93df378c",
   "metadata": {},
   "outputs": [],
   "source": []
  },
  {
   "cell_type": "code",
   "execution_count": null,
   "id": "36df8298",
   "metadata": {},
   "outputs": [],
   "source": [
    "ritis_data_csv =   r'C:/Users/ben_k/work_stuff/modx-prototype-1/npmrds_tt_reliability/npm_rds_test_1.csv'"
   ]
  },
  {
   "cell_type": "code",
   "execution_count": null,
   "id": "a2b60c66",
   "metadata": {},
   "outputs": [],
   "source": [
    "ritis_df = pd.read_csv(ritis_data_csv)"
   ]
  },
  {
   "cell_type": "code",
   "execution_count": null,
   "id": "738ec35f",
   "metadata": {},
   "outputs": [],
   "source": [
    "ritis_df.head(10)"
   ]
  },
  {
   "cell_type": "code",
   "execution_count": null,
   "id": "2ea03581",
   "metadata": {},
   "outputs": [],
   "source": [
    "ritis_df['datepart'] = ritis_df.apply(lambda row : row['measurement_tstamp'].split(' ')[0], axis=1)"
   ]
  },
  {
   "cell_type": "code",
   "execution_count": null,
   "id": "50f2dcea",
   "metadata": {},
   "outputs": [],
   "source": [
    "ritis_df['timepart'] = ritis_df.apply(lambda row : row['measurement_tstamp'].split(' ')[1], axis=1)"
   ]
  },
  {
   "cell_type": "code",
   "execution_count": null,
   "id": "f28731cd",
   "metadata": {},
   "outputs": [],
   "source": [
    "ritis_df['mo'] = ritis_df.apply(lambda row : int(row['datepart'].split('-')[1]), axis=1)"
   ]
  },
  {
   "cell_type": "code",
   "execution_count": null,
   "id": "eb4ff926",
   "metadata": {},
   "outputs": [],
   "source": [
    "ritis_df['dy'] = ritis_df.apply(lambda row : int(row['datepart'].split('-')[2]), axis=1)"
   ]
  },
  {
   "cell_type": "code",
   "execution_count": null,
   "id": "9ae39978",
   "metadata": {},
   "outputs": [],
   "source": [
    "ritis_df.head(10)"
   ]
  },
  {
   "cell_type": "code",
   "execution_count": null,
   "id": "27e5946f",
   "metadata": {},
   "outputs": [],
   "source": [
    "# Assumes all records are for 2019\n",
    "ritis_df['dow'] = ritis_df.apply(lambda row : datetime.date(2019, row['mo'], row['dy']).weekday(), axis=1)"
   ]
  },
  {
   "cell_type": "code",
   "execution_count": null,
   "id": "f1374a14",
   "metadata": {},
   "outputs": [],
   "source": [
    "ritis_df['hour'] = ritis_df.apply(lambda row: int(row['timepart'].split(':')[0]), axis=1)"
   ]
  },
  {
   "cell_type": "code",
   "execution_count": null,
   "id": "99e00762",
   "metadata": {},
   "outputs": [],
   "source": [
    "ritis_df['nhpp_period'] = ritis_df.apply(lambda row : get_nhpp_period(row['dow'], row['hour']), axis=1)"
   ]
  },
  {
   "cell_type": "markdown",
   "id": "2e3fc4d4",
   "metadata": {},
   "source": [
    "### Calc stats for  NHPP time period 1"
   ]
  },
  {
   "cell_type": "code",
   "execution_count": null,
   "id": "48c00d8d",
   "metadata": {},
   "outputs": [],
   "source": [
    "period_1_df = ritis_df.copy(deep=True)\n",
    "period_1_df = period_1_df[period_1_df['nhpp_period'] == 1]\n",
    "\n",
    "g50 = period_1_df.groupby('tmc_code')['travel_time_seconds'].quantile(q=0.5)\n",
    "period_1_g50_df = g50.to_frame()\n",
    "period_1_g50_df = period_1_g50_df.rename(columns={'travel_time_seconds' : \"p1_tt_secs_50pct\"})\n",
    "\n",
    "g80 = period_1_df.groupby('tmc_code')['travel_time_seconds'].quantile(q=0.8)\n",
    "period_1_g80_df = g80.to_frame()\n",
    "period_1_g80_df = period_1_g80_df.rename(columns={'travel_time_seconds' : \"p1_tt_secs_80pct\"})\n",
    "\n",
    "period_1_stats_df = period_1_g50_df.merge(right=period_1_g80_df, left_on='tmc_code', right_on='tmc_code')\n",
    "period_1_stats_df['p1_lottr'] = round(period_1_stats_df['p1_tt_secs_80pct'] / period_1_stats_df['p1_tt_secs_50pct'], 2)"
   ]
  },
  {
   "cell_type": "code",
   "execution_count": null,
   "id": "72aa5ef4",
   "metadata": {},
   "outputs": [],
   "source": [
    "period_1_stats_df.head(10)"
   ]
  },
  {
   "cell_type": "code",
   "execution_count": null,
   "id": "c5e93a25",
   "metadata": {},
   "outputs": [],
   "source": []
  },
  {
   "cell_type": "markdown",
   "id": "b4d35d86",
   "metadata": {},
   "source": [
    "### Calc stats for NHPP time period 2"
   ]
  },
  {
   "cell_type": "code",
   "execution_count": null,
   "id": "6760808f",
   "metadata": {},
   "outputs": [],
   "source": [
    "period_2_df = ritis_df.copy(deep=True)\n",
    "period_2_df = period_2_df[period_2_df['nhpp_period'] == 2]\n",
    "\n",
    "g50 = period_2_df.groupby('tmc_code')['travel_time_seconds'].quantile(q=0.5)\n",
    "period_2_g50_df = g50.to_frame()\n",
    "period_2_g50_df = period_2_g50_df.rename(columns={'travel_time_seconds' : \"p2_tt_secs_50pct\"})\n",
    "\n",
    "g80 = period_2_df.groupby('tmc_code')['travel_time_seconds'].quantile(q=0.8)\n",
    "period_2_g80_df = g80.to_frame()\n",
    "period_2_g80_df = period_2_g80_df.rename(columns={'travel_time_seconds' : \"p2_tt_secs_80pct\"})\n",
    "\n",
    "period_2_stats_df = period_2_g50_df.merge(right=period_2_g80_df, left_on='tmc_code', right_on='tmc_code')\n",
    "period_2_stats_df['p2_lottr'] = round(period_2_stats_df['p2_tt_secs_80pct'] / period_2_stats_df['p2_tt_secs_50pct'], 2)"
   ]
  },
  {
   "cell_type": "code",
   "execution_count": null,
   "id": "52bebac1",
   "metadata": {},
   "outputs": [],
   "source": [
    "period_2_stats_df.head(10)"
   ]
  },
  {
   "cell_type": "code",
   "execution_count": null,
   "id": "e2e7a2d2",
   "metadata": {},
   "outputs": [],
   "source": []
  },
  {
   "cell_type": "markdown",
   "id": "0999bfaf",
   "metadata": {},
   "source": [
    "### Calc stats for NHPP time period 3"
   ]
  },
  {
   "cell_type": "code",
   "execution_count": null,
   "id": "44f9acce",
   "metadata": {},
   "outputs": [],
   "source": [
    "period_3_df = ritis_df.copy(deep=True)\n",
    "period_3_df = period_3_df[period_3_df['nhpp_period'] == 3]\n",
    "\n",
    "g50 = period_3_df.groupby('tmc_code')['travel_time_seconds'].quantile(q=0.5)\n",
    "period_3_g50_df = g50.to_frame()\n",
    "period_3_g50_df = period_3_g50_df.rename(columns={'travel_time_seconds' : \"p3_tt_secs_50pct\"})\n",
    "\n",
    "g80 = period_3_df.groupby('tmc_code')['travel_time_seconds'].quantile(q=0.8)\n",
    "period_3_g80_df = g80.to_frame()\n",
    "period_3_g80_df = period_3_g80_df.rename(columns={'travel_time_seconds' : \"p3_tt_secs_80pct\"})\n",
    "\n",
    "period_3_stats_df = period_3_g50_df.merge(right=period_3_g80_df, left_on='tmc_code', right_on='tmc_code')\n",
    "period_3_stats_df['p3_lottr'] = round(period_3_stats_df['p3_tt_secs_80pct'] / period_3_stats_df['p3_tt_secs_50pct'], 2)"
   ]
  },
  {
   "cell_type": "code",
   "execution_count": null,
   "id": "7a6ccf99",
   "metadata": {},
   "outputs": [],
   "source": [
    "period_3_stats_df.head(10)"
   ]
  },
  {
   "cell_type": "code",
   "execution_count": null,
   "id": "e57bc462",
   "metadata": {},
   "outputs": [],
   "source": []
  },
  {
   "cell_type": "markdown",
   "id": "3815fe67",
   "metadata": {},
   "source": [
    "### Calc stats for NHPP time period 4"
   ]
  },
  {
   "cell_type": "code",
   "execution_count": null,
   "id": "88ebe8bd",
   "metadata": {},
   "outputs": [],
   "source": [
    "period_4_df = ritis_df.copy(deep=True)\n",
    "period_4_df = period_4_df[period_4_df['nhpp_period'] == 4]\n",
    "\n",
    "g50 = period_4_df.groupby('tmc_code')['travel_time_seconds'].quantile(q=0.5)\n",
    "period_4_g50_df = g50.to_frame()\n",
    "period_4_g50_df = period_4_g50_df.rename(columns={'travel_time_seconds' : \"p4_tt_secs_50pct\"})\n",
    "\n",
    "g80 = period_4_df.groupby('tmc_code')['travel_time_seconds'].quantile(q=0.8)\n",
    "period_4_g80_df = g80.to_frame()\n",
    "period_4_g80_df = period_4_g80_df.rename(columns={'travel_time_seconds' : \"p4_tt_secs_80pct\"})\n",
    "\n",
    "period_4_stats_df = period_4_g50_df.merge(right=period_4_g80_df, left_on='tmc_code', right_on='tmc_code')\n",
    "period_4_stats_df['p3_lottr'] = round(period_4_stats_df['p4_tt_secs_80pct'] / period_4_stats_df['p4_tt_secs_50pct'], 2)"
   ]
  },
  {
   "cell_type": "code",
   "execution_count": null,
   "id": "a7160787",
   "metadata": {},
   "outputs": [],
   "source": [
    "period_4_stats_df.head(10)"
   ]
  },
  {
   "cell_type": "code",
   "execution_count": null,
   "id": "82544d16",
   "metadata": {},
   "outputs": [],
   "source": []
  },
  {
   "cell_type": "code",
   "execution_count": null,
   "id": "da227901",
   "metadata": {},
   "outputs": [],
   "source": []
  },
  {
   "cell_type": "code",
   "execution_count": null,
   "id": "20a4c646",
   "metadata": {},
   "outputs": [],
   "source": []
  }
 ],
 "metadata": {
  "kernelspec": {
   "display_name": "Python 3 (ipykernel)",
   "language": "python",
   "name": "python3"
  },
  "language_info": {
   "codemirror_mode": {
    "name": "ipython",
    "version": 3
   },
   "file_extension": ".py",
   "mimetype": "text/x-python",
   "name": "python",
   "nbconvert_exporter": "python",
   "pygments_lexer": "ipython3",
   "version": "3.9.7"
  }
 },
 "nbformat": 4,
 "nbformat_minor": 5
}
