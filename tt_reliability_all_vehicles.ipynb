{
 "cells": [
  {
   "cell_type": "markdown",
   "id": "8388f540",
   "metadata": {},
   "source": [
    "### Notebook to calculate NPMRDS travel-time reliability metric for all vehicles"
   ]
  },
  {
   "cell_type": "code",
   "execution_count": null,
   "id": "92aa78c9",
   "metadata": {},
   "outputs": [],
   "source": [
    "import pandas as pd\n",
    "import datetime\n",
    "from dbfread import DBF"
   ]
  },
  {
   "cell_type": "code",
   "execution_count": null,
   "id": "ad85cb2b",
   "metadata": {},
   "outputs": [],
   "source": [
    "# Enums (symbolic constants) for NHPP_Periods:\n",
    "NHPP_NONE         = 0\n",
    "NHPP_WEEKDAY_6_10 = 1\n",
    "NHPP_WEEKDAY_10_4 = 2\n",
    "NHPP_WEEKDAY_4_8  =  3\n",
    "NHPP_WEEKEND_6_8  =  4"
   ]
  },
  {
   "cell_type": "code",
   "execution_count": null,
   "id": "13755e20",
   "metadata": {},
   "outputs": [],
   "source": [
    "# NHPP time periods for \"all vehicles\" are:\n",
    "#     1. weekdays 6 AM to 10 AM\n",
    "#     2. weekdays 10 AM to 4 PM\n",
    "#     3. weekdays 4 PM to 8 PM\n",
    "#     4. weekends 6 AM to 8 PM\n",
    "#\n",
    "# NOTE: In the input data, 'hours' are given using the 24-hour (NOT 12-hour) clock.\n",
    "#       For example, 4 PM == 16 hours\n",
    "#\n",
    "\n",
    "def get_nhpp_period(dow, hour):\n",
    "\tretval = NHPP_NONE \n",
    "\tif (dow == 5 or dow == 6):\n",
    "\t\tif hour >=6 and hour < 20:\n",
    "\t\t\tretval = NHPP_WEEKEND_6_8\n",
    "\t\telse:\n",
    "\t\t\tretval = NHPP_NONE\n",
    "\telif hour >=6 and hour < 10:\n",
    "\t\tretval = NHPP_WEEKDAY_6_10\n",
    "\telif hour >= 10 and hour < 16:\n",
    "\t\tretval = NHPP_WEEKDAY_10_4\n",
    "\telif hour >= 16 and hour < 20:\n",
    "\t\tretval = NHPP_WEEKDAY_4_8\n",
    "\telse:\n",
    "\t\tretval = NHPP_NONE\n",
    "\t# endif\n",
    "\treturn retval\n",
    "# end_def get_nhpp_period()"
   ]
  },
  {
   "cell_type": "code",
   "execution_count": null,
   "id": "e8505287",
   "metadata": {},
   "outputs": [],
   "source": []
  },
  {
   "cell_type": "code",
   "execution_count": null,
   "id": "6502a6b3",
   "metadata": {},
   "outputs": [],
   "source": [
    "ritis_data_csv =   r'//lilliput/bkrepp/jupyter_notebooks/npmrds-tt-reliability/data/npmrds_test_3.csv'"
   ]
  },
  {
   "cell_type": "code",
   "execution_count": null,
   "id": "d90dd8b0",
   "metadata": {},
   "outputs": [],
   "source": [
    "ritis_df = pd.read_csv(ritis_data_csv)"
   ]
  },
  {
   "cell_type": "code",
   "execution_count": null,
   "id": "38644c54",
   "metadata": {},
   "outputs": [],
   "source": [
    "ritis_df.head(10)"
   ]
  },
  {
   "cell_type": "code",
   "execution_count": null,
   "id": "aa286a1c",
   "metadata": {},
   "outputs": [],
   "source": [
    "ritis_df['datepart'] = ritis_df.apply(lambda row : row['measurement_tstamp'].split(' ')[0], axis=1)"
   ]
  },
  {
   "cell_type": "code",
   "execution_count": null,
   "id": "d2cb272d",
   "metadata": {},
   "outputs": [],
   "source": [
    "ritis_df['timepart'] = ritis_df.apply(lambda row : row['measurement_tstamp'].split(' ')[1], axis=1)"
   ]
  },
  {
   "cell_type": "code",
   "execution_count": null,
   "id": "a2c71725",
   "metadata": {},
   "outputs": [],
   "source": [
    "ritis_df['mo'] = ritis_df.apply(lambda row : int(row['datepart'].split('-')[1]), axis=1)"
   ]
  },
  {
   "cell_type": "code",
   "execution_count": null,
   "id": "2e86e9d8",
   "metadata": {},
   "outputs": [],
   "source": [
    "ritis_df['dy'] = ritis_df.apply(lambda row : int(row['datepart'].split('-')[2]), axis=1)"
   ]
  },
  {
   "cell_type": "code",
   "execution_count": null,
   "id": "47d0ea7c",
   "metadata": {},
   "outputs": [],
   "source": [
    "ritis_df.head(10)"
   ]
  },
  {
   "cell_type": "markdown",
   "id": "a2b1ac91",
   "metadata": {},
   "source": [
    "### Note: Change required in following cell when 2019 data is available."
   ]
  },
  {
   "cell_type": "code",
   "execution_count": null,
   "id": "255fb3ca",
   "metadata": {},
   "outputs": [],
   "source": [
    "# Assumes all records are for 2017 - based on sample we were able to obtain on 9/26/2022.\n",
    "ritis_df['dow'] = ritis_df.apply(lambda row : datetime.date(2017, row['mo'], row['dy']).weekday(), axis=1)"
   ]
  },
  {
   "cell_type": "code",
   "execution_count": null,
   "id": "92d9943d",
   "metadata": {},
   "outputs": [],
   "source": [
    "ritis_df['hour'] = ritis_df.apply(lambda row: int(row['timepart'].split(':')[0]), axis=1)"
   ]
  },
  {
   "cell_type": "code",
   "execution_count": null,
   "id": "da614920",
   "metadata": {},
   "outputs": [],
   "source": [
    "ritis_df['nhpp_period'] = ritis_df.apply(lambda row : get_nhpp_period(row['dow'], row['hour']), axis=1)"
   ]
  },
  {
   "cell_type": "markdown",
   "id": "c28ab812",
   "metadata": {},
   "source": [
    "### Calc stats for  NHPP time period 1"
   ]
  },
  {
   "cell_type": "code",
   "execution_count": null,
   "id": "a8cc35a3",
   "metadata": {},
   "outputs": [],
   "source": [
    "period_1_df = ritis_df.copy(deep=True)\n",
    "period_1_df = period_1_df[period_1_df['nhpp_period'] == NHPP_WEEKDAY_6_10]\n",
    "\n",
    "g50 = period_1_df.groupby('tmc_code')['travel_time_seconds'].quantile(q=0.5)\n",
    "period_1_g50_df = g50.to_frame()\n",
    "period_1_g50_df = period_1_g50_df.rename(columns={'travel_time_seconds' : \"p1_tt_secs_50pct\"})\n",
    "\n",
    "g80 = period_1_df.groupby('tmc_code')['travel_time_seconds'].quantile(q=0.8)\n",
    "period_1_g80_df = g80.to_frame()\n",
    "period_1_g80_df = period_1_g80_df.rename(columns={'travel_time_seconds' : \"p1_tt_secs_80pct\"})\n",
    "\n",
    "period_1_stats_df = period_1_g50_df.merge(right=period_1_g80_df, left_on='tmc_code', right_on='tmc_code')\n",
    "period_1_stats_df['p1_lottr'] = round(period_1_stats_df['p1_tt_secs_80pct'] / period_1_stats_df['p1_tt_secs_50pct'], 2)"
   ]
  },
  {
   "cell_type": "code",
   "execution_count": null,
   "id": "a86cedbc",
   "metadata": {},
   "outputs": [],
   "source": [
    "period_1_stats_df.head(10)"
   ]
  },
  {
   "cell_type": "code",
   "execution_count": null,
   "id": "e7435fef",
   "metadata": {},
   "outputs": [],
   "source": []
  },
  {
   "cell_type": "markdown",
   "id": "08d5356b",
   "metadata": {},
   "source": [
    "### Calc stats for NHPP time period 2"
   ]
  },
  {
   "cell_type": "code",
   "execution_count": null,
   "id": "1727c720",
   "metadata": {},
   "outputs": [],
   "source": [
    "period_2_df = ritis_df.copy(deep=True)\n",
    "period_2_df = period_2_df[period_2_df['nhpp_period'] == NHPP_WEEKDAY_10_4]\n",
    "\n",
    "g50 = period_2_df.groupby('tmc_code')['travel_time_seconds'].quantile(q=0.5)\n",
    "period_2_g50_df = g50.to_frame()\n",
    "period_2_g50_df = period_2_g50_df.rename(columns={'travel_time_seconds' : \"p2_tt_secs_50pct\"})\n",
    "\n",
    "g80 = period_2_df.groupby('tmc_code')['travel_time_seconds'].quantile(q=0.8)\n",
    "period_2_g80_df = g80.to_frame()\n",
    "period_2_g80_df = period_2_g80_df.rename(columns={'travel_time_seconds' : \"p2_tt_secs_80pct\"})\n",
    "\n",
    "period_2_stats_df = period_2_g50_df.merge(right=period_2_g80_df, left_on='tmc_code', right_on='tmc_code')\n",
    "period_2_stats_df['p2_lottr'] = round(period_2_stats_df['p2_tt_secs_80pct'] / period_2_stats_df['p2_tt_secs_50pct'], 2)"
   ]
  },
  {
   "cell_type": "code",
   "execution_count": null,
   "id": "3311b29d",
   "metadata": {},
   "outputs": [],
   "source": [
    "period_2_stats_df.head(10)"
   ]
  },
  {
   "cell_type": "code",
   "execution_count": null,
   "id": "f40c5d1f",
   "metadata": {},
   "outputs": [],
   "source": []
  },
  {
   "cell_type": "markdown",
   "id": "792eb7ca",
   "metadata": {},
   "source": [
    "### Calc stats for NHPP time period 3"
   ]
  },
  {
   "cell_type": "code",
   "execution_count": null,
   "id": "bc434467",
   "metadata": {},
   "outputs": [],
   "source": [
    "period_3_df = ritis_df.copy(deep=True)\n",
    "period_3_df = period_3_df[period_3_df['nhpp_period'] == NHPP_WEEKDAY_4_8 ]\n",
    "\n",
    "g50 = period_3_df.groupby('tmc_code')['travel_time_seconds'].quantile(q=0.5)\n",
    "period_3_g50_df = g50.to_frame()\n",
    "period_3_g50_df = period_3_g50_df.rename(columns={'travel_time_seconds' : \"p3_tt_secs_50pct\"})\n",
    "\n",
    "g80 = period_3_df.groupby('tmc_code')['travel_time_seconds'].quantile(q=0.8)\n",
    "period_3_g80_df = g80.to_frame()\n",
    "period_3_g80_df = period_3_g80_df.rename(columns={'travel_time_seconds' : \"p3_tt_secs_80pct\"})\n",
    "\n",
    "period_3_stats_df = period_3_g50_df.merge(right=period_3_g80_df, left_on='tmc_code', right_on='tmc_code')\n",
    "period_3_stats_df['p3_lottr'] = round(period_3_stats_df['p3_tt_secs_80pct'] / period_3_stats_df['p3_tt_secs_50pct'], 2)"
   ]
  },
  {
   "cell_type": "code",
   "execution_count": null,
   "id": "adb8761a",
   "metadata": {},
   "outputs": [],
   "source": [
    "period_3_stats_df.head(10)"
   ]
  },
  {
   "cell_type": "code",
   "execution_count": null,
   "id": "8c149ab6",
   "metadata": {},
   "outputs": [],
   "source": []
  },
  {
   "cell_type": "markdown",
   "id": "2bd96f7b",
   "metadata": {},
   "source": [
    "### Calc stats for NHPP time period 4"
   ]
  },
  {
   "cell_type": "code",
   "execution_count": null,
   "id": "6d6dfd07",
   "metadata": {},
   "outputs": [],
   "source": [
    "period_4_df = ritis_df.copy(deep=True)\n",
    "period_4_df = period_4_df[period_4_df['nhpp_period'] == NHPP_WEEKEND_6_8]\n",
    "\n",
    "g50 = period_4_df.groupby('tmc_code')['travel_time_seconds'].quantile(q=0.5)\n",
    "period_4_g50_df = g50.to_frame()\n",
    "period_4_g50_df = period_4_g50_df.rename(columns={'travel_time_seconds' : \"p4_tt_secs_50pct\"})\n",
    "\n",
    "g80 = period_4_df.groupby('tmc_code')['travel_time_seconds'].quantile(q=0.8)\n",
    "period_4_g80_df = g80.to_frame()\n",
    "period_4_g80_df = period_4_g80_df.rename(columns={'travel_time_seconds' : \"p4_tt_secs_80pct\"})\n",
    "\n",
    "period_4_stats_df = period_4_g50_df.merge(right=period_4_g80_df, left_on='tmc_code', right_on='tmc_code')\n",
    "period_4_stats_df['p4_lottr'] = round(period_4_stats_df['p4_tt_secs_80pct'] / period_4_stats_df['p4_tt_secs_50pct'], 2)"
   ]
  },
  {
   "cell_type": "code",
   "execution_count": null,
   "id": "9f41805a",
   "metadata": {},
   "outputs": [],
   "source": [
    "period_4_stats_df.head(10)"
   ]
  },
  {
   "cell_type": "code",
   "execution_count": null,
   "id": "1e6562be",
   "metadata": {},
   "outputs": [],
   "source": []
  },
  {
   "cell_type": "markdown",
   "id": "b1346daa",
   "metadata": {},
   "source": [
    "### Join time-period specific dataframes into a single DF"
   ]
  },
  {
   "cell_type": "code",
   "execution_count": null,
   "id": "35f7cecb",
   "metadata": {},
   "outputs": [],
   "source": [
    "j1 = period_1_stats_df.merge(right=period_2_stats_df, left_on='tmc_code', right_on='tmc_code')\n",
    "j2 = j1.merge(right=period_3_stats_df, left_on='tmc_code', right_on='tmc_code')\n",
    "j3 = j2.merge(right=period_4_stats_df, left_on='tmc_code', right_on='tmc_code')"
   ]
  },
  {
   "cell_type": "code",
   "execution_count": null,
   "id": "d9afca74",
   "metadata": {},
   "outputs": [],
   "source": [
    "j3 = j3.drop(columns=['p1_tt_secs_50pct', 'p1_tt_secs_80pct', 'p2_tt_secs_50pct', 'p2_tt_secs_80pct',\n",
    "                      'p3_tt_secs_50pct', 'p3_tt_secs_80pct', 'p4_tt_secs_50pct', 'p4_tt_secs_80pct'])"
   ]
  },
  {
   "cell_type": "code",
   "execution_count": null,
   "id": "aecc5245",
   "metadata": {},
   "outputs": [],
   "source": [
    "j3.head(10)"
   ]
  },
  {
   "cell_type": "markdown",
   "id": "e2f755dd",
   "metadata": {},
   "source": [
    "### Prepare final data frame for output"
   ]
  },
  {
   "cell_type": "code",
   "execution_count": null,
   "id": "4cda9a5f",
   "metadata": {},
   "outputs": [],
   "source": [
    "final_df = j3.rename(columns={'p1_lottr' : 'LOTTR Weekday 6 AM -10 AM',\n",
    "                              'p2_lottr' : 'LOTTR Weekday 10 AM - 4 PM',\n",
    "                              'p3_lottr' : 'LOTTR Weekday 4 PM - 8 PM',\n",
    "                              'p4_lottr' : 'LOTTR Weekend 6 AM - 8 PM'})"
   ]
  },
  {
   "cell_type": "code",
   "execution_count": null,
   "id": "fc4e2a5c",
   "metadata": {},
   "outputs": [],
   "source": [
    "final_df.head(10)"
   ]
  },
  {
   "cell_type": "markdown",
   "id": "efa5a705",
   "metadata": {},
   "source": [
    "### Export final dataframe to CSV file"
   ]
  },
  {
   "cell_type": "code",
   "execution_count": null,
   "id": "844ce401",
   "metadata": {},
   "outputs": [],
   "source": [
    "output_csv_fn = r'//lilliput/bkrepp/jupyter_notebooks/npmrds-tt-reliability/lottr_all_vehicles.csv'"
   ]
  },
  {
   "cell_type": "code",
   "execution_count": null,
   "id": "528cd3fe",
   "metadata": {},
   "outputs": [],
   "source": [
    "final_df.to_csv(output_csv_fn)"
   ]
  },
  {
   "cell_type": "code",
   "execution_count": null,
   "id": "08b475f6",
   "metadata": {},
   "outputs": [],
   "source": []
  },
  {
   "cell_type": "markdown",
   "id": "c12604eb",
   "metadata": {},
   "source": [
    "### Calculate single regional summary metric"
   ]
  },
  {
   "cell_type": "code",
   "execution_count": null,
   "id": "c306a5ab",
   "metadata": {},
   "outputs": [],
   "source": [
    "j3.head(10)"
   ]
  },
  {
   "cell_type": "code",
   "execution_count": null,
   "id": "1473f5a0",
   "metadata": {},
   "outputs": [],
   "source": []
  },
  {
   "cell_type": "code",
   "execution_count": null,
   "id": "37257a8e",
   "metadata": {},
   "outputs": [],
   "source": []
  },
  {
   "cell_type": "code",
   "execution_count": null,
   "id": "42a9f807",
   "metadata": {},
   "outputs": [],
   "source": [
    "# Prep dataframe to be joined to TMC attribute table data. \n",
    "# Add column for 'average volume'\n",
    "j3['AV'] = 0"
   ]
  },
  {
   "cell_type": "code",
   "execution_count": null,
   "id": "9c4cf7af",
   "metadata": {},
   "outputs": [],
   "source": [
    "j3.head(10)"
   ]
  },
  {
   "cell_type": "code",
   "execution_count": null,
   "id": "37c89d2c",
   "metadata": {},
   "outputs": [],
   "source": [
    "# DBF file with attribute table for NPMPRDS shapefile\n",
    "tmc_attr_table_fn = r'//lilliput/bkrepp/jupyter_notebooks/npmrds-tt-reliability/shapefile/BRMPO_NPMRDS_TMCS_2019.dbf'"
   ]
  },
  {
   "cell_type": "code",
   "execution_count": null,
   "id": "479a8551",
   "metadata": {},
   "outputs": [],
   "source": [
    "tmc_attr_table_dbf = DBF(tmc_attr_table_fn)\n",
    "tmc_attr_table_df = pd.DataFrame(iter(tmc_attr_table_dbf))"
   ]
  },
  {
   "cell_type": "code",
   "execution_count": null,
   "id": "6aaac084",
   "metadata": {},
   "outputs": [],
   "source": [
    "# tmc_attr_table_df.head(10)"
   ]
  },
  {
   "cell_type": "code",
   "execution_count": null,
   "id": "faa64357",
   "metadata": {},
   "outputs": [],
   "source": [
    "# Join DF with TMC-level stats with TMC attribute table\n",
    "T_df = j3.merge(right=tmc_attr_table_df, left_on='tmc_code', right_on='tmc')"
   ]
  },
  {
   "cell_type": "code",
   "execution_count": null,
   "id": "f4f78aa7",
   "metadata": {},
   "outputs": [],
   "source": [
    "# Calculate AV value\n",
    "T_df['AV'] = T_df.apply(lambda row: row['aadt'] * (0.5 if row['faciltype'] == 2 else 1.0) *365, axis=1)"
   ]
  },
  {
   "cell_type": "code",
   "execution_count": null,
   "id": "020975e8",
   "metadata": {},
   "outputs": [],
   "source": [
    "# Occupancy factor - this is a placeholder for now\n",
    "T_df['OF'] = 1.0"
   ]
  },
  {
   "cell_type": "code",
   "execution_count": null,
   "id": "95fec1a1",
   "metadata": {},
   "outputs": [],
   "source": [
    "# Calculate term used in numerator and denominator of NHPP reliability measure\n",
    "# Round 'miles' to nearest thousandth, per FHWA doc\n",
    "T_df['lottr_measure'] = round(T_df['miles'], 3) * T_df['AV']  * T_df['OF']"
   ]
  },
  {
   "cell_type": "code",
   "execution_count": null,
   "id": "43a5c54b",
   "metadata": {},
   "outputs": [],
   "source": [
    "# Calculate denominator: sum of 'lottr_measure' for all reporting TMCs\n",
    "denominator = T_df['lottr_measure'].sum()\n",
    "denominator"
   ]
  },
  {
   "cell_type": "code",
   "execution_count": null,
   "id": "811a4c25",
   "metadata": {},
   "outputs": [],
   "source": [
    "# Calculate numerator: sum of 'lottr_measure' with LOTTR < 1.5 for all 4 time periods\n",
    "R_df = T_df[(T_df['p1_lottr'] < 1.5) & (T_df['p2_lottr'] < 1.5) & (T_df['p3_lottr'] < 1.5) & (T_df['p4_lottr'] < 1.5)]"
   ]
  },
  {
   "cell_type": "code",
   "execution_count": null,
   "id": "5c83c0d1",
   "metadata": {},
   "outputs": [],
   "source": [
    "numerator = R_df['lottr_measure'].sum()\n",
    "numerator"
   ]
  },
  {
   "cell_type": "code",
   "execution_count": null,
   "id": "e3a198f9",
   "metadata": {},
   "outputs": [],
   "source": [
    "NHPP_Reliability_Measure = numerator / denominator\n",
    "NHPP_Reliability_Measure"
   ]
  },
  {
   "cell_type": "code",
   "execution_count": null,
   "id": "a3985bd7",
   "metadata": {},
   "outputs": [],
   "source": []
  }
 ],
 "metadata": {
  "kernelspec": {
   "display_name": "Python 3 (ipykernel)",
   "language": "python",
   "name": "python3"
  },
  "language_info": {
   "codemirror_mode": {
    "name": "ipython",
    "version": 3
   },
   "file_extension": ".py",
   "mimetype": "text/x-python",
   "name": "python",
   "nbconvert_exporter": "python",
   "pygments_lexer": "ipython3",
   "version": "3.9.12"
  }
 },
 "nbformat": 4,
 "nbformat_minor": 5
}
