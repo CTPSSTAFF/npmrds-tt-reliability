{
 "cells": [
  {
   "cell_type": "markdown",
   "id": "8388f540",
   "metadata": {},
   "source": [
    "### Notebook to calculate NPMRDS level of travel-time reliability (LOTTR) metric for trucks"
   ]
  },
  {
   "cell_type": "code",
   "execution_count": null,
   "id": "92aa78c9",
   "metadata": {},
   "outputs": [],
   "source": [
    "import pandas as pd\n",
    "import datetime\n",
    "from dbfread import DBF"
   ]
  },
  {
   "cell_type": "code",
   "execution_count": null,
   "id": "ad85cb2b",
   "metadata": {},
   "outputs": [],
   "source": [
    "# Enums (symbolic constants) for NHPP Truck Periods:\n",
    "TRUCK_NONE         = 0\n",
    "TRUCK_WEEKDAY_6_10 = 1\n",
    "TRUCK_WEEKDAY_10_4 = 2\n",
    "TRUCK_WEEKDAY_4_8  = 3\n",
    "TRUCK_WEEKEND_6_8  = 4\n",
    "TRUCK_ALLDAYS_8_6  = 5"
   ]
  },
  {
   "cell_type": "code",
   "execution_count": null,
   "id": "13755e20",
   "metadata": {},
   "outputs": [],
   "source": [
    "# The truck periods are:\n",
    "#     1. weekdays 6 AM to 10 AM\n",
    "#     2. weekdays 10 AM to 4 PM\n",
    "#     3. weekdays 4 PM to 8 PM\n",
    "#     4. weekends 6 AM to 8 PM\n",
    "#     5. all days 8 PM to 6 AM\n",
    "#\n",
    "# NOTE: In the input data, 'hours' are given using the 24-hour (NOT 12-hour) clock.\n",
    "#       For example, 4 PM == 16 hours\n",
    "#\n",
    "def get_truck_period(dow, hour):\n",
    "\tretval = TRUCK_NONE\n",
    "\tif (dow == 5 or dow == 6):\n",
    "\t\tif hour >=6 and hour < 20:\n",
    "\t\t\tretval = TRUCK_WEEKEND_6_8\n",
    "\t\telse:\n",
    "\t\t\tretval = TRUCK_ALLDAYS_8_6\n",
    "\telif hour >=6 and hour < 10:\n",
    "\t\tretval = TRUCK_WEEKDAY_6_10\n",
    "\telif hour >= 10 and hour < 16:\n",
    "\t\tretval = TRUCK_WEEKDAY_10_4\n",
    "\telif hour >= 16 and hour < 20:\n",
    "\t\tretval = TRUCK_WEEKDAY_4_8\n",
    "\telse:\n",
    "\t\tretval = TRUCK_ALLDAYS_8_6\n",
    "\t# endif\n",
    "\treturn retval\n",
    "# end_def get_truck_period()"
   ]
  },
  {
   "cell_type": "code",
   "execution_count": null,
   "id": "e8505287",
   "metadata": {},
   "outputs": [],
   "source": []
  },
  {
   "cell_type": "code",
   "execution_count": null,
   "id": "6502a6b3",
   "metadata": {},
   "outputs": [],
   "source": [
    "ritis_data_csv =   r'//lilliput/bkrepp/jupyter_notebooks/npmrds-tt-reliability/data/npmrds-trucks-2019.csv'"
   ]
  },
  {
   "cell_type": "code",
   "execution_count": null,
   "id": "d90dd8b0",
   "metadata": {},
   "outputs": [],
   "source": [
    "ritis_df = pd.read_csv(ritis_data_csv)"
   ]
  },
  {
   "cell_type": "code",
   "execution_count": null,
   "id": "38644c54",
   "metadata": {},
   "outputs": [],
   "source": [
    "ritis_df.head(10)"
   ]
  },
  {
   "cell_type": "code",
   "execution_count": null,
   "id": "aa286a1c",
   "metadata": {},
   "outputs": [],
   "source": [
    "ritis_df['datepart'] = ritis_df.apply(lambda row : row['measurement_tstamp'].split(' ')[0], axis=1)"
   ]
  },
  {
   "cell_type": "code",
   "execution_count": null,
   "id": "d2cb272d",
   "metadata": {},
   "outputs": [],
   "source": [
    "ritis_df['timepart'] = ritis_df.apply(lambda row : row['measurement_tstamp'].split(' ')[1], axis=1)"
   ]
  },
  {
   "cell_type": "code",
   "execution_count": null,
   "id": "a2c71725",
   "metadata": {},
   "outputs": [],
   "source": [
    "ritis_df['mo'] = ritis_df.apply(lambda row : int(row['datepart'].split('-')[1]), axis=1)"
   ]
  },
  {
   "cell_type": "code",
   "execution_count": null,
   "id": "2e86e9d8",
   "metadata": {},
   "outputs": [],
   "source": [
    "ritis_df['dy'] = ritis_df.apply(lambda row : int(row['datepart'].split('-')[2]), axis=1)"
   ]
  },
  {
   "cell_type": "code",
   "execution_count": null,
   "id": "47d0ea7c",
   "metadata": {},
   "outputs": [],
   "source": [
    "ritis_df.head(10)"
   ]
  },
  {
   "cell_type": "code",
   "execution_count": null,
   "id": "255fb3ca",
   "metadata": {},
   "outputs": [],
   "source": [
    "# Assumes all records are for 2019.\n",
    "ritis_df['dow'] = ritis_df.apply(lambda row : datetime.date(2019, row['mo'], row['dy']).weekday(), axis=1)"
   ]
  },
  {
   "cell_type": "code",
   "execution_count": null,
   "id": "92d9943d",
   "metadata": {},
   "outputs": [],
   "source": [
    "ritis_df['hour'] = ritis_df.apply(lambda row: int(row['timepart'].split(':')[0]), axis=1)"
   ]
  },
  {
   "cell_type": "code",
   "execution_count": null,
   "id": "da614920",
   "metadata": {},
   "outputs": [],
   "source": [
    "ritis_df['truck_period'] = ritis_df.apply(lambda row : get_truck_period(row['dow'], row['hour']), axis=1)"
   ]
  },
  {
   "cell_type": "code",
   "execution_count": null,
   "id": "29fca3d7",
   "metadata": {},
   "outputs": [],
   "source": []
  },
  {
   "cell_type": "markdown",
   "id": "c28ab812",
   "metadata": {},
   "source": [
    "### Calculate level of travel-time reliability metric for all TMCs for Truck time period 1"
   ]
  },
  {
   "cell_type": "code",
   "execution_count": null,
   "id": "a8cc35a3",
   "metadata": {},
   "outputs": [],
   "source": [
    "period_1_df = ritis_df.copy(deep=True)\n",
    "period_1_df = period_1_df[period_1_df['truck_period'] == TRUCK_WEEKDAY_6_10]\n",
    "\n",
    "g50 = period_1_df.groupby('tmc_code')['travel_time_seconds'].quantile(q=0.5)\n",
    "period_1_g50_df = g50.to_frame()\n",
    "period_1_g50_df = period_1_g50_df.rename(columns={'travel_time_seconds' : \"p1_tt_secs_50pct\"})\n",
    "\n",
    "g95 = period_1_df.groupby('tmc_code')['travel_time_seconds'].quantile(q=0.95)\n",
    "period_1_g95_df = g95.to_frame()\n",
    "period_1_g95_df = period_1_g95_df.rename(columns={'travel_time_seconds' : \"p1_tt_secs_95pct\"})\n",
    "\n",
    "period_1_stats_df = period_1_g50_df.merge(right=period_1_g95_df, left_on='tmc_code', right_on='tmc_code')\n",
    "period_1_stats_df['p1_lottr'] = round(period_1_stats_df['p1_tt_secs_95pct'] / period_1_stats_df['p1_tt_secs_50pct'], 2)"
   ]
  },
  {
   "cell_type": "code",
   "execution_count": null,
   "id": "a86cedbc",
   "metadata": {},
   "outputs": [],
   "source": [
    "period_1_stats_df.head(10)"
   ]
  },
  {
   "cell_type": "code",
   "execution_count": null,
   "id": "e7435fef",
   "metadata": {},
   "outputs": [],
   "source": []
  },
  {
   "cell_type": "markdown",
   "id": "08d5356b",
   "metadata": {},
   "source": [
    "### Calculate level of travel-time reliability metric for all TMCs for Truck time period 2"
   ]
  },
  {
   "cell_type": "code",
   "execution_count": null,
   "id": "1727c720",
   "metadata": {},
   "outputs": [],
   "source": [
    "period_2_df = ritis_df.copy(deep=True)\n",
    "period_2_df = period_2_df[period_2_df['truck_period'] == TRUCK_WEEKDAY_10_4]\n",
    "\n",
    "g50 = period_2_df.groupby('tmc_code')['travel_time_seconds'].quantile(q=0.5)\n",
    "period_2_g50_df = g50.to_frame()\n",
    "period_2_g50_df = period_2_g50_df.rename(columns={'travel_time_seconds' : \"p2_tt_secs_50pct\"})\n",
    "\n",
    "g95 = period_2_df.groupby('tmc_code')['travel_time_seconds'].quantile(q=0.95)\n",
    "period_2_g95_df = g95.to_frame()\n",
    "period_2_g95_df = period_2_g95_df.rename(columns={'travel_time_seconds' : \"p2_tt_secs_95pct\"})\n",
    "\n",
    "period_2_stats_df = period_2_g50_df.merge(right=period_2_g95_df, left_on='tmc_code', right_on='tmc_code')\n",
    "period_2_stats_df['p2_lottr'] = round(period_2_stats_df['p2_tt_secs_95pct'] / period_2_stats_df['p2_tt_secs_50pct'], 2)"
   ]
  },
  {
   "cell_type": "code",
   "execution_count": null,
   "id": "3311b29d",
   "metadata": {},
   "outputs": [],
   "source": [
    "period_2_stats_df.head(10)"
   ]
  },
  {
   "cell_type": "code",
   "execution_count": null,
   "id": "f40c5d1f",
   "metadata": {},
   "outputs": [],
   "source": []
  },
  {
   "cell_type": "markdown",
   "id": "792eb7ca",
   "metadata": {},
   "source": [
    "### Calculate level of travel-time reliability metrci for all TMCs for Truck time period 3"
   ]
  },
  {
   "cell_type": "code",
   "execution_count": null,
   "id": "bc434467",
   "metadata": {},
   "outputs": [],
   "source": [
    "period_3_df = ritis_df.copy(deep=True)\n",
    "period_3_df = period_3_df[period_3_df['truck_period'] == TRUCK_WEEKDAY_4_8]\n",
    "\n",
    "g50 = period_3_df.groupby('tmc_code')['travel_time_seconds'].quantile(q=0.5)\n",
    "period_3_g50_df = g50.to_frame()\n",
    "period_3_g50_df = period_3_g50_df.rename(columns={'travel_time_seconds' : \"p3_tt_secs_50pct\"})\n",
    "\n",
    "g95 = period_3_df.groupby('tmc_code')['travel_time_seconds'].quantile(q=0.95)\n",
    "period_3_g95_df = g95.to_frame()\n",
    "period_3_g95_df = period_3_g95_df.rename(columns={'travel_time_seconds' : \"p3_tt_secs_95pct\"})\n",
    "\n",
    "period_3_stats_df = period_3_g50_df.merge(right=period_3_g95_df, left_on='tmc_code', right_on='tmc_code')\n",
    "period_3_stats_df['p3_lottr'] = round(period_3_stats_df['p3_tt_secs_95pct'] / period_3_stats_df['p3_tt_secs_50pct'], 2)"
   ]
  },
  {
   "cell_type": "code",
   "execution_count": null,
   "id": "adb8761a",
   "metadata": {},
   "outputs": [],
   "source": [
    "period_3_stats_df.head(10)"
   ]
  },
  {
   "cell_type": "code",
   "execution_count": null,
   "id": "8c149ab6",
   "metadata": {},
   "outputs": [],
   "source": []
  },
  {
   "cell_type": "markdown",
   "id": "2bd96f7b",
   "metadata": {},
   "source": [
    "### Calculate level of travel-time reliabilty metric for all TMCs for Truck time period 4"
   ]
  },
  {
   "cell_type": "code",
   "execution_count": null,
   "id": "6d6dfd07",
   "metadata": {},
   "outputs": [],
   "source": [
    "period_4_df = ritis_df.copy(deep=True)\n",
    "period_4_df = period_4_df[period_4_df['truck_period'] == TRUCK_WEEKEND_6_8 ]\n",
    "\n",
    "g50 = period_4_df.groupby('tmc_code')['travel_time_seconds'].quantile(q=0.5)\n",
    "period_4_g50_df = g50.to_frame()\n",
    "period_4_g50_df = period_4_g50_df.rename(columns={'travel_time_seconds' : \"p4_tt_secs_50pct\"})\n",
    "\n",
    "g95 = period_4_df.groupby('tmc_code')['travel_time_seconds'].quantile(q=0.95)\n",
    "period_4_g95_df = g95.to_frame()\n",
    "period_4_g95_df = period_4_g95_df.rename(columns={'travel_time_seconds' : \"p4_tt_secs_95pct\"})\n",
    "\n",
    "period_4_stats_df = period_4_g50_df.merge(right=period_4_g95_df, left_on='tmc_code', right_on='tmc_code')\n",
    "period_4_stats_df['p4_lottr'] = round(period_4_stats_df['p4_tt_secs_95pct'] / period_4_stats_df['p4_tt_secs_50pct'], 2)"
   ]
  },
  {
   "cell_type": "code",
   "execution_count": null,
   "id": "9f41805a",
   "metadata": {},
   "outputs": [],
   "source": [
    "period_4_stats_df.head(10)"
   ]
  },
  {
   "cell_type": "code",
   "execution_count": null,
   "id": "1e6562be",
   "metadata": {},
   "outputs": [],
   "source": []
  },
  {
   "cell_type": "markdown",
   "id": "ff666a60",
   "metadata": {},
   "source": [
    "### Calculate level of travel-time reliability metric for all TMCs for Truck time period 5"
   ]
  },
  {
   "cell_type": "code",
   "execution_count": null,
   "id": "e81eece0",
   "metadata": {},
   "outputs": [],
   "source": [
    "period_5_df = ritis_df.copy(deep=True)\n",
    "period_5_df = period_5_df[period_5_df['truck_period'] == TRUCK_ALLDAYS_8_6 ]\n",
    "\n",
    "g50 = period_5_df.groupby('tmc_code')['travel_time_seconds'].quantile(q=0.5)\n",
    "period_5_g50_df = g50.to_frame()\n",
    "period_5_g50_df = period_5_g50_df.rename(columns={'travel_time_seconds' : \"p5_tt_secs_50pct\"})\n",
    "\n",
    "g95 = period_5_df.groupby('tmc_code')['travel_time_seconds'].quantile(q=0.95)\n",
    "period_5_g95_df = g95.to_frame()\n",
    "period_5_g95_df = period_5_g95_df.rename(columns={'travel_time_seconds' : \"p5_tt_secs_95pct\"})\n",
    "\n",
    "period_5_stats_df = period_5_g50_df.merge(right=period_5_g95_df, left_on='tmc_code', right_on='tmc_code')\n",
    "period_5_stats_df['p5_lottr'] = round(period_5_stats_df['p5_tt_secs_95pct'] / period_5_stats_df['p5_tt_secs_50pct'], 2)"
   ]
  },
  {
   "cell_type": "code",
   "execution_count": null,
   "id": "5eb02043",
   "metadata": {},
   "outputs": [],
   "source": [
    "period_5_stats_df.head(10)"
   ]
  },
  {
   "cell_type": "code",
   "execution_count": null,
   "id": "8676846c",
   "metadata": {},
   "outputs": [],
   "source": []
  },
  {
   "cell_type": "markdown",
   "id": "b1346daa",
   "metadata": {},
   "source": [
    "### Join time-period specific dataframes into a single dataframe"
   ]
  },
  {
   "cell_type": "code",
   "execution_count": null,
   "id": "35f7cecb",
   "metadata": {},
   "outputs": [],
   "source": [
    "j1 = period_1_stats_df.merge(right=period_2_stats_df, left_on='tmc_code', right_on='tmc_code')\n",
    "j2 = j1.merge(right=period_3_stats_df, left_on='tmc_code', right_on='tmc_code')\n",
    "j3 = j2.merge(right=period_4_stats_df, left_on='tmc_code', right_on='tmc_code')\n",
    "j4 = j3.merge(right=period_5_stats_df, left_on='tmc_code', right_on='tmc_code')"
   ]
  },
  {
   "cell_type": "code",
   "execution_count": null,
   "id": "d9afca74",
   "metadata": {},
   "outputs": [],
   "source": [
    "j4 = j4.drop(columns=['p1_tt_secs_50pct', 'p1_tt_secs_95pct', 'p2_tt_secs_50pct', 'p2_tt_secs_95pct',\n",
    "                      'p3_tt_secs_50pct', 'p3_tt_secs_95pct', 'p4_tt_secs_50pct', 'p4_tt_secs_95pct',\n",
    "                      'p5_tt_secs_50pct', 'p5_tt_secs_95pct'])"
   ]
  },
  {
   "cell_type": "code",
   "execution_count": null,
   "id": "aecc5245",
   "metadata": {},
   "outputs": [],
   "source": [
    "j4.head(10)"
   ]
  },
  {
   "cell_type": "markdown",
   "id": "e2f755dd",
   "metadata": {},
   "source": [
    "### Prepare final dataframe with LOTTR metric for each TMC for output"
   ]
  },
  {
   "cell_type": "code",
   "execution_count": null,
   "id": "4cda9a5f",
   "metadata": {},
   "outputs": [],
   "source": [
    "final_df = j4.rename(columns={'p1_lottr' : 'LOTTR Weekday 6 AM -10 AM',\n",
    "                              'p2_lottr' : 'LOTTR Weekday 10 AM - 4 PM',\n",
    "                              'p3_lottr' : 'LOTTR Weekday 4 PM - 8 PM',\n",
    "                              'p4_lottr' : 'LOTTR Weekend 6 AM - 8 PM',\n",
    "                              'p5_lottr' : 'LOTTR All days 8 PM - 6 AM'})"
   ]
  },
  {
   "cell_type": "code",
   "execution_count": null,
   "id": "fc4e2a5c",
   "metadata": {},
   "outputs": [],
   "source": [
    "final_df.head(10)"
   ]
  },
  {
   "cell_type": "markdown",
   "id": "efa5a705",
   "metadata": {},
   "source": [
    "### Export dataframe with LOTTR metric for each TMC to a CSV file"
   ]
  },
  {
   "cell_type": "code",
   "execution_count": null,
   "id": "844ce401",
   "metadata": {},
   "outputs": [],
   "source": [
    "output_csv_fn = r'//lilliput/bkrepp/jupyter_notebooks/npmrds-tt-reliability/lottr_trucks.csv'"
   ]
  },
  {
   "cell_type": "code",
   "execution_count": null,
   "id": "528cd3fe",
   "metadata": {},
   "outputs": [],
   "source": [
    "final_df.to_csv(output_csv_fn)"
   ]
  },
  {
   "cell_type": "code",
   "execution_count": null,
   "id": "08b475f6",
   "metadata": {},
   "outputs": [],
   "source": []
  },
  {
   "cell_type": "markdown",
   "id": "569e24b4",
   "metadata": {},
   "source": [
    "###  Calculate the single regional LOTTR metric for trucks"
   ]
  },
  {
   "cell_type": "code",
   "execution_count": null,
   "id": "b4fb0da0",
   "metadata": {},
   "outputs": [],
   "source": [
    "# Prep dataframe to be joined to TMC attribute table data. \n",
    "# Add column for 'average volume'\n",
    "j4['max_lottr'] = j4.apply(lambda row: max(row['p1_lottr'], row['p2_lottr'], row['p3_lottr'], \n",
    "                                           row['p4_lottr'], row['p5_lottr']), axis=1)"
   ]
  },
  {
   "cell_type": "code",
   "execution_count": null,
   "id": "38828812",
   "metadata": {},
   "outputs": [],
   "source": [
    "# DBF file with attribute table for NPMPRDS shapefile\n",
    "tmc_attr_table_fn = r'//lilliput/bkrepp/jupyter_notebooks/npmrds-tt-reliability/shapefile/BRMPO_NPMRDS_TMCS_2019.dbf'"
   ]
  },
  {
   "cell_type": "code",
   "execution_count": null,
   "id": "d871d419",
   "metadata": {},
   "outputs": [],
   "source": [
    "tmc_attr_table_dbf = DBF(tmc_attr_table_fn)\n",
    "tmc_attr_table_df = pd.DataFrame(iter(tmc_attr_table_dbf))"
   ]
  },
  {
   "cell_type": "code",
   "execution_count": null,
   "id": "cf3e5524",
   "metadata": {},
   "outputs": [],
   "source": [
    "# Join DF with TMC-level stats with TMC attribute table\n",
    "T_df = j4.merge(right=tmc_attr_table_df, left_on='tmc_code', right_on='tmc')"
   ]
  },
  {
   "cell_type": "code",
   "execution_count": null,
   "id": "d4f45e87",
   "metadata": {},
   "outputs": [],
   "source": [
    "# Calculate terms used in numerator and denominator of NHPP reliability measure\n",
    "# Round 'miles' to nearest thousandth, per FHWA doc\n",
    "T_df['lottr_measure'] = round(T_df['miles'], 3) * T_df['max_lottr'] "
   ]
  },
  {
   "cell_type": "code",
   "execution_count": null,
   "id": "c50ef0b6",
   "metadata": {},
   "outputs": [],
   "source": [
    "# Calculate numerator\n",
    "numerator = T_df['lottr_measure'].sum()\n",
    "numerator"
   ]
  },
  {
   "cell_type": "code",
   "execution_count": null,
   "id": "fe938ade",
   "metadata": {},
   "outputs": [],
   "source": [
    "# Calculate denominator: sum of 'miles' for all reporting TMCs\n",
    "denominator = T_df['miles'].sum()\n",
    "denominator"
   ]
  },
  {
   "cell_type": "code",
   "execution_count": null,
   "id": "1663f946",
   "metadata": {},
   "outputs": [],
   "source": [
    "Freight_Reliability = numerator / denominator\n",
    "Freight_Reliability"
   ]
  },
  {
   "cell_type": "code",
   "execution_count": null,
   "id": "de4b0556",
   "metadata": {},
   "outputs": [],
   "source": []
  }
 ],
 "metadata": {
  "kernelspec": {
   "display_name": "Python 3 (ipykernel)",
   "language": "python",
   "name": "python3"
  },
  "language_info": {
   "codemirror_mode": {
    "name": "ipython",
    "version": 3
   },
   "file_extension": ".py",
   "mimetype": "text/x-python",
   "name": "python",
   "nbconvert_exporter": "python",
   "pygments_lexer": "ipython3",
   "version": "3.9.12"
  }
 },
 "nbformat": 4,
 "nbformat_minor": 5
}
